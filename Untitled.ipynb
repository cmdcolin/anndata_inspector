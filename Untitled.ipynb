{
 "cells": [
  {
   "cell_type": "code",
   "execution_count": 21,
   "id": "589c8ae6-771e-4ead-8ee6-b8f9da632033",
   "metadata": {},
   "outputs": [
    {
     "data": {
      "text/plain": [
       "AnnData object with n_obs × n_vars = 2638 × 11505\n",
       "    obs: 'n_genes', 'percent_mito', 'n_counts', 'louvain_cell_types'\n",
       "    var: 'gene_names', 'n_cells', 'gene_ids'\n",
       "    uns: 'louvain', 'louvain_colors', 'pca'\n",
       "    obsm: 'X_pca', 'X_tsne', 'X_umap'\n",
       "    layers: 'raw'\n",
       "    obsp: 'distances_all'"
      ]
     },
     "execution_count": 21,
     "metadata": {},
     "output_type": "execute_result"
    }
   ],
   "source": [
    "import pathlib\n",
    "import anywidget\n",
    "import anndata\n",
    "import pooch\n",
    "\n",
    "# download a dataset\n",
    "datapath = pooch.retrieve(\n",
    "    url=\"https://figshare.com/ndownloader/files/40067737\",\n",
    "    known_hash=\"md5:b80deb0997f96b45d06f19c694e46243\",\n",
    "    path=\"../data\",\n",
    "    fname=\"scverse-getting-started-anndata-pbmc3k_processed.h5ad\",\n",
    ")\n",
    "adata = anndata.read_h5ad(\"../data/scverse-getting-started-anndata-pbmc3k_processed.h5ad\")\n",
    "adata\n",
    "\n"
   ]
  },
  {
   "cell_type": "code",
<<<<<<< Updated upstream
   "execution_count": 22,
=======
   "execution_count": 102,
>>>>>>> Stashed changes
   "id": "0e6d4bdb-9683-4791-8759-88fbf7b21aa0",
   "metadata": {},
   "outputs": [
    {
     "data": {
      "application/vnd.jupyter.widget-view+json": {
<<<<<<< Updated upstream
       "model_id": "f4727db4ddf24dec84c36eb6f52b1e47",
=======
       "model_id": "48251400002f42b7b38fbfea8c0514a8",
>>>>>>> Stashed changes
       "version_major": 2,
       "version_minor": 0
      },
      "text/plain": [
       "myWidget()"
      ]
     },
<<<<<<< Updated upstream
     "execution_count": 22,
=======
     "execution_count": 102,
>>>>>>> Stashed changes
     "metadata": {},
     "output_type": "execute_result"
    }
   ],
   "source": [
    "\n",
    "class myWidget(anywidget.AnyWidget):\n",
    "    _esm = pathlib.Path(\"./react/bundle/widget.js\")\n",
    "    _css = pathlib.Path(\"./react/bundle/widget.css\")\n",
    "    \n",
    "    def __init__(self,adata):\n",
    "        super().__init__()\n",
    "        self.adata=adata\n",
    "\n",
    "    \n",
    "\n",
    "    \n",
    "    @anywidget.experimental.command\n",
    "    def _echo(self, msg, buffers):\n",
    "        print(msg)\n",
    "        if(msg['type']==\"options\"):\n",
    "            return repr(getattr(adata,msg['obj'])[msg['val']]), buffers\n",
    "        elif(msg['type']==\"simple\"):\n",
    "            if(msg['val']!=\"\"):\n",
    "               return getattr(adata,msg['val'])._repr_html_(), buffers\n",
    "            else:\n",
    "                return \"\", buffers\n",
    "        elif(msg['type']==\"data-summary\"):\n",
    "            if(msg['val']!=\"\"):\n",
    "                data = getattr(adata,msg['val'])\n",
    "                return data.to_json(), buffers\n",
    "            else:\n",
    "                return \"\", buffers\n",
    "        elif(msg['type']=='getopts'):\n",
    "            if(msg['val']!=\"\"):\n",
    "               return getattr(adata,msg['val']).keys(), buffers\n",
    "            else:\n",
    "                return \"\", buffers\n",
    "            \n",
    "\n",
    "m = myWidget(adata)\n",
    "m"
   ]
  },
  {
   "cell_type": "code",
   "execution_count": 12,
   "id": "b12f0726-6b0f-48b8-b94e-e18126cac9e8",
   "metadata": {},
   "outputs": [
    {
     "data": {
      "text/plain": [
       "<2638x11505 sparse matrix of type '<class 'numpy.int64'>'\n",
       "\twith 2076576 stored elements in Compressed Sparse Row format>"
      ]
     },
     "execution_count": 12,
     "metadata": {},
     "output_type": "execute_result"
    }
   ],
   "source": [
    "msg=\"raw\"\n",
    "adata.layers[msg]"
   ]
  },
  {
   "cell_type": "code",
   "execution_count": null,
   "id": "95d9db91-5456-4793-9165-8d2873337340",
   "metadata": {},
   "outputs": [],
   "source": []
  }
 ],
 "metadata": {
  "kernelspec": {
   "display_name": "Python 3 (ipykernel)",
   "language": "python",
   "name": "python3"
  },
  "language_info": {
   "codemirror_mode": {
    "name": "ipython",
    "version": 3
   },
   "file_extension": ".py",
   "mimetype": "text/x-python",
   "name": "python",
   "nbconvert_exporter": "python",
   "pygments_lexer": "ipython3",
   "version": "3.11.0"
  }
 },
 "nbformat": 4,
 "nbformat_minor": 5
}
