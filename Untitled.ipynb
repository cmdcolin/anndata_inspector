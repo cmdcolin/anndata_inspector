{
 "cells": [
  {
   "cell_type": "code",
   "execution_count": 1,
   "id": "589c8ae6-771e-4ead-8ee6-b8f9da632033",
   "metadata": {},
   "outputs": [
    {
     "data": {
      "text/plain": [
       "AnnData object with n_obs × n_vars = 2638 × 11505\n",
       "    obs: 'n_genes', 'percent_mito', 'n_counts', 'louvain_cell_types'\n",
       "    var: 'gene_names', 'n_cells', 'gene_ids'\n",
       "    uns: 'louvain', 'louvain_colors', 'pca'\n",
       "    obsm: 'X_pca', 'X_tsne', 'X_umap'\n",
       "    layers: 'raw'\n",
       "    obsp: 'distances_all'"
      ]
     },
     "execution_count": 1,
     "metadata": {},
     "output_type": "execute_result"
    }
   ],
   "source": [
    "import pathlib\n",
    "import anywidget\n",
    "import anndata\n",
    "import pooch\n",
    "\n",
    "# download a dataset\n",
    "datapath = pooch.retrieve(\n",
    "    url=\"https://figshare.com/ndownloader/files/40067737\",\n",
    "    known_hash=\"md5:b80deb0997f96b45d06f19c694e46243\",\n",
    "    path=\"../data\",\n",
    "    fname=\"scverse-getting-started-anndata-pbmc3k_processed.h5ad\",\n",
    ")\n",
    "adata = anndata.read_h5ad(\"../data/scverse-getting-started-anndata-pbmc3k_processed.h5ad\")\n",
    "adata\n",
    "\n"
   ]
  },
  {
   "cell_type": "code",
   "execution_count": 93,
   "id": "0e6d4bdb-9683-4791-8759-88fbf7b21aa0",
   "metadata": {},
   "outputs": [
    {
     "data": {
      "application/vnd.jupyter.widget-view+json": {
       "model_id": "96a90f9300b24c0484ff44fda83a4d83",
       "version_major": 2,
       "version_minor": 0
      },
      "text/plain": [
       "myWidget()"
      ]
     },
     "execution_count": 93,
     "metadata": {},
     "output_type": "execute_result"
    }
   ],
   "source": [
    "\n",
    "class myWidget(anywidget.AnyWidget):\n",
    "    _esm = pathlib.Path(\"./react/bundle/widget.js\")\n",
    "    _css = pathlib.Path(\"./react/bundle/widget.css\")\n",
    "    \n",
    "    def __init__(self,adata):\n",
    "        super().__init__()\n",
    "        self.adata=adata\n",
    "\n",
    "    \n",
    "\n",
    "    \n",
    "    @anywidget.experimental.command\n",
    "    def _echo(self, msg, buffers):\n",
    "        print(msg)\n",
    "        if(msg['type']==\"options\"):\n",
    "            return repr(getattr(adata,msg['obj'])[msg['val']]), buffers\n",
    "        elif(msg['type']==\"simple\"):\n",
    "            if(msg['val']!=\"\"):\n",
    "               return getattr(adata,msg['val'])._repr_html_(), buffers\n",
    "            else:\n",
    "                return \"\", buffers\n",
    "        elif(msg['type']=='getopts'):\n",
    "            if(msg['val']!=\"\"):\n",
    "               return getattr(adata,msg['val']).keys(), buffers\n",
    "            else:\n",
    "                return \"\", buffers\n",
    "            \n",
    "\n",
    "m = myWidget(adata)\n",
    "m"
   ]
  },
  {
   "cell_type": "code",
   "execution_count": 73,
   "id": "b12f0726-6b0f-48b8-b94e-e18126cac9e8",
   "metadata": {},
   "outputs": [
    {
     "data": {
      "text/plain": [
       "<2638x11505 sparse matrix of type '<class 'numpy.int64'>'\n",
       "\twith 2076576 stored elements in Compressed Sparse Row format>"
      ]
     },
     "execution_count": 73,
     "metadata": {},
     "output_type": "execute_result"
    }
   ],
   "source": [
    "msg=\"raw\"\n",
    "adata.layers[msg]"
   ]
  }
 ],
 "metadata": {
  "kernelspec": {
   "display_name": "Python 3 (ipykernel)",
   "language": "python",
   "name": "python3"
  },
  "language_info": {
   "codemirror_mode": {
    "name": "ipython",
    "version": 3
   },
   "file_extension": ".py",
   "mimetype": "text/x-python",
   "name": "python",
   "nbconvert_exporter": "python",
   "pygments_lexer": "ipython3",
   "version": "3.11.6"
  }
 },
 "nbformat": 4,
 "nbformat_minor": 5
}
