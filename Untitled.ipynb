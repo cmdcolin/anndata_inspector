{
 "cells": [
  {
   "cell_type": "raw",
   "id": "55c670e5-9660-46f0-9f7c-3c7227058456",
   "metadata": {},
   "source": [
    "import anndata\n",
    "import pooch\n",
    "\n",
    "# download a dataset\n",
    "datapath = pooch.retrieve(\n",
    "    url=\"https://figshare.com/ndownloader/files/40067737\",\n",
    "    known_hash=\"md5:b80deb0997f96b45d06f19c694e46243\",\n",
    "    path=\"../data\",\n",
    "    fname=\"scverse-getting-started-anndata-pbmc3k_processed.h5ad\",\n",
    ")\n",
    "adata = anndata.read_h5ad(\"../data/scverse-getting-started-anndata-pbmc3k_processed.h5ad\")\n",
    "adata"
   ]
  },
  {
   "cell_type": "code",
   "execution_count": 12,
   "id": "589c8ae6-771e-4ead-8ee6-b8f9da632033",
   "metadata": {},
   "outputs": [
    {
     "data": {
      "application/vnd.jupyter.widget-view+json": {
       "model_id": "34ade49a333d4ddfb04259cf3cc9bb52",
       "version_major": 2,
       "version_minor": 0
      },
      "text/plain": [
       "myWidget()"
      ]
     },
     "execution_count": 12,
     "metadata": {},
     "output_type": "execute_result"
    }
   ],
   "source": [
    "import pathlib\n",
    "import anywidget\n",
    "\n",
    "class myWidget(anywidget.AnyWidget):\n",
    "    _esm = pathlib.Path(\"./react/bundle/widget.js\")\n",
    "    _css = pathlib.Path(\"./react/bundle/widget.css\")\n",
    "\n",
    "m = myWidget()\n",
    "m"
   ]
  },
  {
   "cell_type": "code",
   "execution_count": null,
   "id": "b12f0726-6b0f-48b8-b94e-e18126cac9e8",
   "metadata": {},
   "outputs": [],
   "source": []
  }
 ],
 "metadata": {
  "kernelspec": {
   "display_name": "Python 3 (ipykernel)",
   "language": "python",
   "name": "python3"
  },
  "language_info": {
   "codemirror_mode": {
    "name": "ipython",
    "version": 3
   },
   "file_extension": ".py",
   "mimetype": "text/x-python",
   "name": "python",
   "nbconvert_exporter": "python",
   "pygments_lexer": "ipython3",
   "version": "3.11.6"
  }
 },
 "nbformat": 4,
 "nbformat_minor": 5
}
